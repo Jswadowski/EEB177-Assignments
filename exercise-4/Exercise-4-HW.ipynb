{
 "cells": [
  {
   "cell_type": "code",
   "execution_count": 7,
   "metadata": {
    "collapsed": false
   },
   "outputs": [
    {
     "name": "stdout",
     "output_type": "stream",
     "text": [
      "100\n",
      "101\n",
      "102\n",
      "103\n",
      "104\n",
      "105\n",
      "106\n",
      "107\n",
      "108\n",
      "109\n",
      "110\n"
     ]
    }
   ],
   "source": [
    "#Write a for-loop that prints out the numbers 100-110\n",
    "tenrange = range(100,111)\n",
    "for current_number in tenrange:\n",
    "    print(current_number)"
   ]
  },
  {
   "cell_type": "code",
   "execution_count": 10,
   "metadata": {
    "collapsed": false
   },
   "outputs": [
    {
     "name": "stdout",
     "output_type": "stream",
     "text": [
      "100\n",
      "101\n",
      "102\n",
      "103\n",
      "104\n",
      "105\n",
      "106\n",
      "107\n",
      "108\n",
      "109\n",
      "110\n"
     ]
    }
   ],
   "source": [
    "#Write a while- loop that prints out the numbers from 100 to 110. \n",
    "start = 99\n",
    "while start < 110:\n",
    "    start = start + 1\n",
    "    print(start)"
   ]
  },
  {
   "cell_type": "code",
   "execution_count": 11,
   "metadata": {
    "collapsed": false
   },
   "outputs": [
    {
     "name": "stdout",
     "output_type": "stream",
     "text": [
      "[100]\n",
      "[100, 121]\n",
      "[100, 121, 144]\n",
      "[100, 121, 144, 169]\n",
      "[100, 121, 144, 169, 196]\n",
      "[100, 121, 144, 169, 196, 225]\n"
     ]
    }
   ],
   "source": [
    "#Write a loop that prints out the squares of the numbers from 10-15. This can be a for or a while loop.\n",
    "list_of_squares = []\n",
    "for current_number in range(10,16):\n",
    "    square = current_number**2\n",
    "    list_of_squares.append(square)\n",
    "    print(list_of_squares)"
   ]
  },
  {
   "cell_type": "code",
   "execution_count": 18,
   "metadata": {
    "collapsed": false
   },
   "outputs": [
    {
     "name": "stdout",
     "output_type": "stream",
     "text": [
      "Scooby is a character in that most glorious of cartoons, Scooby Doo.\n",
      "Velma is a character in that most glorious of cartoons, Scooby Doo.\n",
      "Daphne is a character in that most glorious of cartoons, Scooby Doo.\n",
      "Fred is a character in that most glorious of cartoons, Scooby Doo.\n"
     ]
    }
   ],
   "source": [
    "#Write a loop that iterates over the list [\"Scooby\", \"Shaggy\", \"Velma\", \"Daphne\", \"Fred\"] and for each character prints the statement \"XXX is a character in that most glorious of cartoons, Scooby Doo\".\n",
    "character_list = ('Scooby', 'Velma', 'Daphne', 'Fred')\n",
    "for item in character_list:\n",
    "    print(str(item) + ' ' \"is a character in that most glorious of cartoons, Scooby Doo.\")"
   ]
  },
  {
   "cell_type": "code",
   "execution_count": 77,
   "metadata": {
    "collapsed": false
   },
   "outputs": [
    {
     "name": "stdout",
     "output_type": "stream",
     "text": [
      "10\n"
     ]
    }
   ],
   "source": [
    "#Question 5, With annotations and help\n",
    "def fact_or_sum(input):\n",
    "    #check if it is a string\n",
    "    try:\n",
    "        dummy_var = 1 #this is an integer\n",
    "        \n",
    "        #if input is a string, we are adding an integer to a string and it will fail and go to the except at the bottom\n",
    "        #if input is an integer, we will just be adding two integers and it will be fine.\n",
    "        dummy_var = input + dummy_var\n",
    "        \n",
    "        if(input <= 0):\n",
    "            return 0\n",
    "        \n",
    "        #even case, using while-loop\n",
    "        if (input % 2) == 0:\n",
    "            j = input\n",
    "            \n",
    "            #aggregate sum\n",
    "            operand = 0\n",
    "\n",
    "            while(j >= 1):\n",
    "                operand = operand + j \n",
    "                j = j - 1\n",
    "                \n",
    "            #by the time we get here the loop is done, so we will have the final answer\n",
    "            return operand \n",
    "                \n",
    "\n",
    "        #odd case, using for-loop\n",
    "        elif (input % 2) != 0:\n",
    "            operand_fact = 1\n",
    "\n",
    "            #syntax \"for 'i' in ...\" means that we implicitly define a variable i \n",
    "            #we start at value input (int i = input) \n",
    "            #we decrement by -1 (third parameter to for loop range)\n",
    "            #we only enter the loop if our current iteration value (i) is > 0, the second parameter of the loop.\n",
    "            for i in range(input, 0, -1):\n",
    "                operand_fact = operand_fact * i\n",
    "                                    #(variable) = (current value of operand_fact) * i\n",
    "\n",
    "            return operand_fact\n",
    "            \n",
    "    except TypeError:\n",
    "        print(\"Please enter an integer.\")\n",
    "    \n",
    "\n",
    "\n",
    "print(fact_or_sum(4))\n",
    "        \n",
    "        "
   ]
  },
  {
   "cell_type": "code",
   "execution_count": 52,
   "metadata": {
    "collapsed": false
   },
   "outputs": [],
   "source": []
  },
  {
   "cell_type": "code",
   "execution_count": null,
   "metadata": {
    "collapsed": false
   },
   "outputs": [],
   "source": []
  },
  {
   "cell_type": "code",
   "execution_count": null,
   "metadata": {
    "collapsed": false,
    "scrolled": true
   },
   "outputs": [],
   "source": []
  },
  {
   "cell_type": "code",
   "execution_count": 27,
   "metadata": {
    "collapsed": false
   },
   "outputs": [
    {
     "ename": "NameError",
     "evalue": "name 'basestring' is not defined",
     "output_type": "error",
     "traceback": [
      "\u001b[0;31m---------------------------------------------------------------------------\u001b[0m",
      "\u001b[0;31mNameError\u001b[0m                                 Traceback (most recent call last)",
      "\u001b[0;32m<ipython-input-27-0b665d298887>\u001b[0m in \u001b[0;36m<module>\u001b[0;34m()\u001b[0m\n\u001b[0;32m----> 1\u001b[0;31m \u001b[0mfact_or_sum\u001b[0m\u001b[0;34m(\u001b[0m\u001b[0;36m4\u001b[0m\u001b[0;34m)\u001b[0m\u001b[0;34m\u001b[0m\u001b[0m\n\u001b[0m",
      "\u001b[0;32m<ipython-input-23-d8203885e68d>\u001b[0m in \u001b[0;36mfact_or_sum\u001b[0;34m(input)\u001b[0m\n\u001b[1;32m      2\u001b[0m \u001b[0;32mdef\u001b[0m \u001b[0mfact_or_sum\u001b[0m\u001b[0;34m(\u001b[0m\u001b[0minput\u001b[0m\u001b[0;34m)\u001b[0m\u001b[0;34m:\u001b[0m\u001b[0;34m\u001b[0m\u001b[0m\n\u001b[1;32m      3\u001b[0m     \u001b[0;31m#check if string\u001b[0m\u001b[0;34m\u001b[0m\u001b[0;34m\u001b[0m\u001b[0m\n\u001b[0;32m----> 4\u001b[0;31m     \u001b[0;32mif\u001b[0m \u001b[0;34m(\u001b[0m\u001b[0misinstance\u001b[0m\u001b[0;34m(\u001b[0m\u001b[0minput\u001b[0m\u001b[0;34m,\u001b[0m \u001b[0mbasestring\u001b[0m\u001b[0;34m)\u001b[0m\u001b[0;34m)\u001b[0m\u001b[0;34m:\u001b[0m\u001b[0;34m\u001b[0m\u001b[0m\n\u001b[0m\u001b[1;32m      5\u001b[0m         \u001b[0;32mreturn\u001b[0m \u001b[0;34m\"Please enter int.\"\u001b[0m\u001b[0;34m\u001b[0m\u001b[0m\n\u001b[1;32m      6\u001b[0m     \u001b[0;32mif\u001b[0m \u001b[0;34m(\u001b[0m\u001b[0minput\u001b[0m \u001b[0;34m==\u001b[0m \u001b[0;36m0\u001b[0m\u001b[0;34m)\u001b[0m\u001b[0;34m:\u001b[0m\u001b[0;34m\u001b[0m\u001b[0m\n",
      "\u001b[0;31mNameError\u001b[0m: name 'basestring' is not defined"
     ]
    }
   ],
   "source": []
  },
  {
   "cell_type": "code",
   "execution_count": null,
   "metadata": {
    "collapsed": true
   },
   "outputs": [],
   "source": []
  }
 ],
 "metadata": {
  "anaconda-cloud": {},
  "kernelspec": {
   "display_name": "Python [default]",
   "language": "python",
   "name": "python3"
  },
  "language_info": {
   "codemirror_mode": {
    "name": "ipython",
    "version": 3
   },
   "file_extension": ".py",
   "mimetype": "text/x-python",
   "name": "python",
   "nbconvert_exporter": "python",
   "pygments_lexer": "ipython3",
   "version": "3.5.2"
  }
 },
 "nbformat": 4,
 "nbformat_minor": 2
}
