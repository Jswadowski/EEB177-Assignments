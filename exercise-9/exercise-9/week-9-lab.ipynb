{
 "cells": [
  {
   "cell_type": "markdown",
   "metadata": {},
   "source": [
    "## Canidae data  \n",
    "- How many fossils are included in the dataset?\n",
    "**answer**:  2947 \n",
    "```\n",
    "tail -n +1 canid_occ.csv | cut -d \",\" -f 1 | wc -l\n",
    "```  \n",
    "\n",
    "- How many fossils have been identified to genus-level only? How many to species-level?\n",
    "**answer**:  species: 2107   genus: 614\n",
    "```\n",
    "tail -n +1 canid_occ.csv | cut -d \",\" -f 7 | grep  \"species\" | wc -l\n",
    "tail -n +1 canid_occ.csv | cut -d \",\" -f 7 | grep  \"genus\" | wc -l\n",
    "```\n",
    "\n",
    "- How many unique accepted names are part of this dataset?\n",
    "**answer**:  212\n",
    "```\n",
    "tail -n +1 canid_occ.csv | cut -d \",\" -f 6 | sort -n | uniq | wc -l \n",
    "```  \n",
    " "
   ]
  },
  {
   "cell_type": "markdown",
   "metadata": {},
   "source": [
    "## Running PyRate\n",
    "\n",
    "- How can we change the sampling frequency of our PyRate run?\n",
    "**answer**: use -sw 100\n",
    "- What does the -n flag achieve?\n",
    "**answer**: It uses the Markov Chain Monte Carlo. Run for a specific number of generations, use -n (# of gen)"
   ]
  },
  {
   "cell_type": "markdown",
   "metadata": {},
   "source": [
    "## Summary of what each file in *pyrate_mcmc_logs* show  \n",
    "**sum.txt** shows a text file providing the complete list of settings used in the analysis.  \n",
    "**mcmc.log**  shows a tab-separated table with the MCMC samples of the posterior, prior, likelihoods of the preservation process and of the birth-death (indicated by PP_lik and BD_lik, respectively), the preservation rate (q_rate), the shape parameter of its gamma-distributed heterogeneity (alpha), the number of sampled rate shifts (k_birth, k_death), the time of origin of the oldest lineage (root_age), the total branch length (tot_length), and the times of speciation and extinction of all taxa in the data set (\\_TS* and \\_TE, respectively). When using the TPP model of preservation, the preservation rates between shifts are indicated as *q_0, q_1, ... q_n (from older to younger).  \n",
    "**marginal_rates.log**  shows a tab-separated table with the posterior samples of the marginal rates of speciation, extinction, and net diversification, calculated within 1 time unit (typically Myr).    "
   ]
  },
  {
   "cell_type": "code",
   "execution_count": null,
   "metadata": {
    "collapsed": true
   },
   "outputs": [],
   "source": []
  }
 ],
 "metadata": {
  "anaconda-cloud": {},
  "kernelspec": {
   "display_name": "Python [default]",
   "language": "python",
   "name": "python3"
  },
  "language_info": {
   "codemirror_mode": {
    "name": "ipython",
    "version": 3
   },
   "file_extension": ".py",
   "mimetype": "text/x-python",
   "name": "python",
   "nbconvert_exporter": "python",
   "pygments_lexer": "ipython3",
   "version": "3.5.2"
  }
 },
 "nbformat": 4,
 "nbformat_minor": 2
}
