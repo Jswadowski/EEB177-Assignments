{
 "cells": [
  {
   "cell_type": "markdown",
   "metadata": {},
   "source": [
    "## Canidae data  \n",
    "- How many fossils are included in the dataset?\n",
    "**answer**:  2947 \n",
    "```\n",
    "tail -n +1 canid_occ.csv | cut -d \",\" -f 1 | wc -l\n",
    "```  \n",
    "\n",
    "- How many fossils have been identified to genus-level only? How many to species-level?\n",
    "**answer**:  species: 2107   genus: 614\n",
    "```\n",
    "tail -n +1 canid_occ.csv | cut -d \",\" -f 7 | grep  \"species\" | wc -l\n",
    "tail -n +1 canid_occ.csv | cut -d \",\" -f 7 | grep  \"genus\" | wc -l\n",
    "```\n",
    "\n",
    "- How many unique accepted names are part of this dataset?\n",
    "**answer**:  212\n",
    "```\n",
    "tail -n +1 canid_occ.csv | cut -d \",\" -f 6 | sort -n | uniq | wc -l \n",
    "```  \n",
    " "
   ]
  },
  {
   "cell_type": "markdown",
   "metadata": {},
   "source": [
    "## Running PyRate\n",
    "\n",
    "- How can we change the sampling frequency of our PyRate run?\n",
    "**answer**: use -sw 100\n",
    "- What does the -n flag achieve?\n",
    "**answer**: It uses the Markov Chain Monte Carlo. Run for a specific number of generations, use -n (# of gen)"
   ]
  },
  {
   "cell_type": "markdown",
   "metadata": {},
   "source": [
    "## Summary of what each file in *pyrate_mcmc_logs* show  \n",
    "**sum.txt** shows a text file providing the complete list of settings used in the analysis.  \n",
    "**mcmc.log**  shows a tab-separated table with the MCMC samples of the posterior, prior, likelihoods of the preservation process and of the birth-death (indicated by PP_lik and BD_lik, respectively), the preservation rate (q_rate), the shape parameter of its gamma-distributed heterogeneity (alpha), the number of sampled rate shifts (k_birth, k_death), the time of origin of the oldest lineage (root_age), the total branch length (tot_length), and the times of speciation and extinction of all taxa in the data set (\\_TS* and \\_TE, respectively). When using the TPP model of preservation, the preservation rates between shifts are indicated as *q_0, q_1, ... q_n (from older to younger).  \n",
    "**marginal_rates.log**  shows a tab-separated table with the posterior samples of the marginal rates of speciation, extinction, and net diversification, calculated within 1 time unit (typically Myr).    "
   ]
  },
  {
   "cell_type": "markdown",
   "metadata": {
    "collapsed": true
   },
   "source": [
    "## Homework\n",
    "**a. Describe the changes in Speciation rates across the Canidae lineage.**  \n",
    "    Speciation rates seem to be relatively unchanged from 50Ma to about 20Ma. it then dips to about 0.1 speciation rate and remains relatively constant until it rises sharply to about 0.25 speciation rate at 5 Ma. \n",
    "**b. Describe the changes in Extinction rates across the Canidae lineage.**  \n",
    "    Extinction rates seem to be relatively constant from about 50Ma to about 3Ma, demonstrating a slight increase. However, there is a very sudden and steep rise in extinction rate at that point, increasing from about 0.1 to 1.2 extinction rate. \n",
    "**c. Describe the changes in Diversification rates across the Canidae lineage.**  \n",
    "    Net diversification rate was positive until 20Ma where it became negative. At about 8Ma, it increased and became positive again only to see a very sudden and steep decline at about 2Ma from about 0.1 to -0.8 net diversification rate.\n",
    "    \n",
    "**Question: Do you see anything different about these RTT plots compared to the ones you had made with only 250000 steps in the MCMC chain?**  \n",
    "    Overall, the RTT plots of 2.5 million simulations as compared to 250,000 show similar trends in speciation, extinction and diversification rates across the Canidae lineage. A difference is that the relatively constant regions displayed by the 250,000 simulated-generated plots now more changed but the trend remains the same. "
   ]
  }
 ],
 "metadata": {
  "anaconda-cloud": {},
  "kernelspec": {
   "display_name": "Python [default]",
   "language": "python",
   "name": "python3"
  },
  "language_info": {
   "codemirror_mode": {
    "name": "ipython",
    "version": 3
   },
   "file_extension": ".py",
   "mimetype": "text/x-python",
   "name": "python",
   "nbconvert_exporter": "python",
   "pygments_lexer": "ipython3",
   "version": "3.5.2"
  }
 },
 "nbformat": 4,
 "nbformat_minor": 2
}
