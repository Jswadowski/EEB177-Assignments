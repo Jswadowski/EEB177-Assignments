{
 "cells": [
  {
   "cell_type": "code",
   "execution_count": 2,
   "metadata": {
    "collapsed": false
   },
   "outputs": [
    {
     "name": "stdout",
     "output_type": "stream",
     "text": [
      "20\n",
      "('Thanksgiving', 'steak and potatoes', 'chicken cutlets')\n",
      "3\n"
     ]
    }
   ],
   "source": [
    "#Question 2\n",
    "a = 3\n",
    "b = 17\n",
    "c = a + b\n",
    "print(c)\n",
    "favorite_animal = \"lion\"\n",
    "favorite_dinners = \"Thanksgiving\", \"steak and potatoes\", \"chicken cutlets\"\n",
    "print(favorite_dinners)\n",
    "num_fav_dinners = len(favorite_dinners)\n",
    "print(num_fav_dinners)"
   ]
  },
  {
   "cell_type": "code",
   "execution_count": 43,
   "metadata": {
    "collapsed": false
   },
   "outputs": [
    {
     "name": "stdout",
     "output_type": "stream",
     "text": [
      "It's pretty warm!\n",
      "Error\n"
     ]
    }
   ],
   "source": [
    "#Question 3\n",
    "def hw3_function(temp):\n",
    "        if type(temp) == str:\n",
    "            print(\"Error\")\n",
    "        elif (temp < 5): \n",
    "            print(\"Brr! It's cold!\")\n",
    "        elif (temp > 5 & temp < 25):\n",
    "            print(\"It's pretty warm!\")\n",
    "        elif (temp > 25):\n",
    "            print(\"What a pleasant temperature!\")\n",
    "        else:\n",
    "            print(\"Error\")\n",
    "hw3_function(6)\n",
    "hw3_function(\"duck\")"
   ]
  },
  {
   "cell_type": "code",
   "execution_count": null,
   "metadata": {
    "collapsed": false
   },
   "outputs": [],
   "source": [
    "#Question 4\n",
    "import re\n",
    "my_dna = \"ATAATTAACGGAGCTTATTA\"\n",
    "if re.search(r\"G(A|T)(A|T)G(A|T|G|C)\", my_dna):\n",
    "    print(\"restriction site found!\")\n",
    "else:\n",
    "    print(\"restriction site not found\")\n",
    "#I have no clue why an output isn't being produced..."
   ]
  },
  {
   "cell_type": "code",
   "execution_count": null,
   "metadata": {
    "collapsed": false
   },
   "outputs": [],
   "source": [
    "#Question 5\n",
    "import random\n",
    "def rps(\"rock\", \"paper\", \"scissors\"):\n",
    "    computer_choice = random.randint(1,3)\n",
    "    if computer_choice == 1:\n",
    "        computer_choice_rock()\n",
    "    elif computer_choice == 2:\n",
    "        computer_choice_paper()\n",
    "    else:\n",
    "        computer_choice_scissors()\n",
    "def computer_choice_rock():\n",
    "    user_choice = raw_input (\"Please enter 'rock', 'paper', 'scissors': \")\n",
    "    if user_choice == \"rock\": \n",
    "        print(\"You picked rock; Computer picked rock; this is a tie!\")\n",
    "        try_again()\n",
    "    if user_choice == \"paper\":\n",
    "        print(\"You picked paper; Computer picked rock; +1 for You!\")\n",
    "        try_again()\n",
    "    if user_choice == \"scissors\":\n",
    "        print(\"You picked scissors; Computer picked rock; +1 for Computer!\")\n",
    "        try_again()\n",
    "    else:\n",
    "        print(\"Please enter a correct input\")\n",
    "        computer_choice_rock()\n",
    "def computer_choice_paper():\n",
    "    user_choice = raw_input (\"Please enter 'rock', 'paper', 'scissors': \")\n",
    "    if user_choice == \"rock\":\n",
    "        print(\"You picked rock; Computer picked paper; +1 for Computer!\")\n",
    "        try_again()\n",
    "    if user_choice == \"paper\":\n",
    "        print(\"You picked paper; Computer picked paper; this is a tie!\")\n",
    "        try_again()\n",
    "    if user_choice == \"scissors\":\n",
    "        print(\"You picked scissors; Computer picked paper; +1 for You!\")\n",
    "        try_again()\n",
    "    else:\n",
    "        print(\"Please enter a correct input\")\n",
    "        computer_choice_paper()\n",
    "def computer_choice_scissors():\n",
    "    user_choice = raw_input (\"Please enter 'rock', 'paper', 'scissors': \")\n",
    "    if user_choice == \"rock\":\n",
    "        print(\"You picked rock; Computer picked scissors; +1 for You!\")\n",
    "        try_again()\n",
    "    if user_choice == \"paper\":\n",
    "        print(\"You picked paper; Computer picked scissors; +1 for Computer!\")\n",
    "        try_again()\n",
    "    if user_choice == \"scissors\":\n",
    "        print(\"You picked scissors; Computer picked scissors; this is a tie!\")\n",
    "        try_again()\n",
    "    else:\n",
    "        print(\"Please enter a correct input\")\n",
    "        computer_choice_scissors()\n",
    "def try_again():\n",
    "    choice = raw_input(\"Play again? y/n \")\n",
    "    if choice == \"y\":\n",
    "        rps()\n",
    "    elif choice == \"n\":\n",
    "        print(\"Thanks for playing!\")\n",
    "        quit ()\n",
    "    else:\n",
    "        print(\"Try again\")\n",
    "        try_again()\n",
    "        \n",
    "rps(\"rock\")\n",
    "#This is version 1 of the game, adapted from a nice tutorial online. \n",
    "#I am still not quite sure why it isn't running, I am not getting any errors"
   ]
  },
  {
   "cell_type": "code",
   "execution_count": null,
   "metadata": {
    "collapsed": false
   },
   "outputs": [],
   "source": [
    "import random\n",
    "\n",
    "player = input(\"Enter your choice (rock/paper/scissors): \")\n",
    "while(player != \"rock\" and player != \"paper\" and player != \"scissors\"):\n",
    "    print(player)\n",
    "    player = input(\"Error: please enter your choice (rock/paper/scissors): \")\n",
    "    rps = [\"rock\", \"paper\", \"scissors\"]\n",
    "computer = random.choice(rps)\n",
    "if (player == computer)\n",
    "    print(\"You picked str(player); Computer picked str(computer); this is a tie!\")\n",
    "elif player == \"rock\":\n",
    "    if computer == \"paper\":\n",
    "        print(\"You picked rock; Computer picked paper; +1 for Computer!\")\n",
    "    else:\n",
    "        print(\"You picked rock; Computer picked scissors; +1 for You!\")\n",
    "elif player == \"paper\":\n",
    "    if computer == \"scissors\":\n",
    "        print(\"You picked paper; Computer picked scissors; +1 for Computer!\")\n",
    "    else:\n",
    "        print(\"You picked paper; Computer picked rock; +1 for You!\")\n",
    "elif player == \"scissors\":\n",
    "    if computer == \"rock\":\n",
    "        print(\"You picked scissors; Computer picked rock; +1 for Computer!\")\n",
    "    else:\n",
    "        print(\"You picked scissors; Computer picked paper; +1 for You!\")\n",
    "else:\n",
    "    print(\"Please input a valid rock/paper/scissors\")\n",
    "\n",
    "    #Version 2 of the game. Adapted from a classmate who had success with this.\n",
    "    #Still no errors showing, but it isn't running..."
   ]
  },
  {
   "cell_type": "code",
   "execution_count": null,
   "metadata": {
    "collapsed": true
   },
   "outputs": [],
   "source": []
  },
  {
   "cell_type": "code",
   "execution_count": null,
   "metadata": {
    "collapsed": true
   },
   "outputs": [],
   "source": []
  }
 ],
 "metadata": {
  "anaconda-cloud": {},
  "kernelspec": {
   "display_name": "Python [default]",
   "language": "python",
   "name": "python3"
  },
  "language_info": {
   "codemirror_mode": {
    "name": "ipython",
    "version": 3
   },
   "file_extension": ".py",
   "mimetype": "text/x-python",
   "name": "python",
   "nbconvert_exporter": "python",
   "pygments_lexer": "ipython3",
   "version": "3.5.2"
  }
 },
 "nbformat": 4,
 "nbformat_minor": 2
}
